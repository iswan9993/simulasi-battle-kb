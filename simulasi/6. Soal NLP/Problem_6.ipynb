{
 "cells": [
  {
   "cell_type": "markdown",
   "metadata": {
    "id": "_RUSyLV7aTGb"
   },
   "source": [
    "<hr>\n",
    "\n",
    "**SOAL 6.NLP**\n",
    "\n",
    "<div class=\"alert alert-block alert-info\">\n",
    "    <ul>\n",
    "        <li>Rancang suatu arsitektur neural network yang dapat meraih akurasi tertinggi dari prediksi data test</li>\n",
    "        <li>Dataset ini merukana sentimen dari aplikasi canva, dengan target <b>target_taype</b> 1 = positif, 0 = negatif</li>\n",
    "    </ul>\n",
    "</div>\n",
    "\n",
    "\n",
    "<div class=\"alert alert-block alert-danger\">\n",
    "    <ul>\n",
    "        <li><b>Jangan menghapus</b>  template code yang telah disediakan</li>\n",
    "    </ul>\n",
    "</div>\n",
    "\n",
    "<hr>\n",
    "\n"
   ]
  },
  {
   "cell_type": "markdown",
   "metadata": {},
   "source": [
    "## Import Library & Read Data"
   ]
  },
  {
   "cell_type": "code",
   "execution_count": null,
   "metadata": {
    "id": "ry265aw1WWyk"
   },
   "outputs": [],
   "source": [
    "import pandas as pd\n",
    "import tensorflow as tf\n",
    "import numpy as np"
   ]
  },
  {
   "cell_type": "code",
   "execution_count": null,
   "metadata": {
    "colab": {
     "base_uri": "https://localhost:8080/",
     "height": 206
    },
    "executionInfo": {
     "elapsed": 614,
     "status": "ok",
     "timestamp": 1697897428383,
     "user": {
      "displayName": "Fransiskus Andre",
      "userId": "12587582502339655997"
     },
     "user_tz": -480
    },
    "id": "7ud7nm-SYhAQ",
    "outputId": "88a4ae5b-6dd3-48d8-9883-6ffca7b79156"
   },
   "outputs": [],
   "source": [
    "df = pd.read_csv('df_Train.csv')\n",
    "df.head()"
   ]
  },
  {
   "cell_type": "markdown",
   "metadata": {
    "id": "taoQvzv6eR4-"
   },
   "source": [
    "<div class=\"alert alert-block alert-success\">\n",
    "    <h3><b>A.</b> Split Dataset</h3>\n",
    "</div>"
   ]
  },
  {
   "cell_type": "code",
   "execution_count": null,
   "metadata": {
    "id": "o9meCagvZG9y"
   },
   "outputs": [],
   "source": [
    "X = #KODE KALIAN DISINI\n",
    "y = #KODE KALIAN DISINI\n",
    "X_train, X_test, y_train, y_test = #KODE KALIAN DISINI\n"
   ]
  },
  {
   "cell_type": "markdown",
   "metadata": {},
   "source": [
    "<div class=\"alert alert-block alert-success\">\n",
    "    <h3><b>B.</b> Preprocessing</h3>\n",
    "</div>"
   ]
  },
  {
   "cell_type": "code",
   "execution_count": null,
   "metadata": {
    "id": "iv90yQrLZOuN"
   },
   "outputs": [],
   "source": [
    "#JANGAN DIHAPUS\n",
    "NUM_WORDS = 15000 \n",
    "MAXLEN = 120\n",
    "TRUNC_TYPE = 'post'\n",
    "OOV_TOK = \"<OOV>\"\n",
    "\n",
    "    \n",
    "tokenizer =  #KODE KALIAN DISINI\n",
    "\n",
    "#JANGAN DIHAPUS\n",
    "tokenizer.fit_on_texts(X_train)\n",
    "x_train_token = tokenizer.texts_to_sequences(X_train)\n",
    "x_test_token = tokenizer.texts_to_sequences(X_test)\n",
    "\n",
    "\n",
    "x_train_padding = pad_sequences(\n",
    "    #KODE KALIAN DISINI\n",
    ")\n",
    "x_test_padding = pad_sequences(\n",
    "    #KODE KALIAN DISINI\n",
    ")"
   ]
  },
  {
   "cell_type": "markdown",
   "metadata": {
    "id": "ku9MYChBiMNc"
   },
   "source": [
    "<div class=\"alert alert-block alert-success\">\n",
    "    <h3><b>C.</b> Modelling</h3>\n",
    "</div>"
   ]
  },
  {
   "cell_type": "code",
   "execution_count": null,
   "metadata": {
    "colab": {
     "base_uri": "https://localhost:8080/"
    },
    "executionInfo": {
     "elapsed": 366,
     "status": "ok",
     "timestamp": 1697897513297,
     "user": {
      "displayName": "Fransiskus Andre",
      "userId": "12587582502339655997"
     },
     "user_tz": -480
    },
    "id": "Pd1-XMLfiKga",
    "outputId": "a01e2af6-53fe-49c7-871f-0b3e7c238a02"
   },
   "outputs": [],
   "source": [
    "#KODE KALIAN DISINI\n",
    "model = Sequential([\n",
    "\n",
    "])\n",
    "\n",
    "model.compile(\n",
    "    #KODE KALIAN DISINI\n",
    ")\n",
    "\n",
    "history = model.fit(\n",
    "    #KODE KALIAN DISINI\n",
    ")"
   ]
  },
  {
   "cell_type": "markdown",
   "metadata": {
    "id": "uFzkdMMvkFw5"
   },
   "source": [
    "<div class=\"alert alert-block alert-success\">\n",
    "    <h3><b>D.</b> Model Evaluation</h3>\n",
    "</div>"
   ]
  },
  {
   "cell_type": "code",
   "execution_count": null,
   "metadata": {
    "colab": {
     "base_uri": "https://localhost:8080/"
    },
    "executionInfo": {
     "elapsed": 353,
     "status": "ok",
     "timestamp": 1697897615828,
     "user": {
      "displayName": "Fransiskus Andre",
      "userId": "12587582502339655997"
     },
     "user_tz": -480
    },
    "id": "jqB8QclWkElC",
    "outputId": "9fb7eff5-bf8d-463c-f8e5-9c1d1d724672"
   },
   "outputs": [],
   "source": [
    "# JANGAN MENGUBAH KODE INI\n",
    "model.evaluate(x_test_padding, y_test)"
   ]
  },
  {
   "cell_type": "markdown",
   "metadata": {},
   "source": [
    "<div class=\"alert alert-block alert-success\">\n",
    "    <h3><b>E.</b> Save Prediction</h3>\n",
    "    Jangan lupa untuk menerapkan preprocessing yang sama jika melakukan preprocessing sebelumnya\n",
    "</div>"
   ]
  },
  {
   "cell_type": "code",
   "execution_count": null,
   "metadata": {
    "colab": {
     "base_uri": "https://localhost:8080/"
    },
    "executionInfo": {
     "elapsed": 350,
     "status": "ok",
     "timestamp": 1697897634582,
     "user": {
      "displayName": "Fransiskus Andre",
      "userId": "12587582502339655997"
     },
     "user_tz": -480
    },
    "id": "yyaYcBtakLAI",
    "outputId": "ecb7be64-ce62-433f-ed7a-e05c85177eea"
   },
   "outputs": [],
   "source": [
    "df_test = pd.read_csv('df_Test.csv')\n",
    "\n",
    "x_test_token = tokenizer.texts_to_sequences(df_test['content'])\n",
    "x_test_padding = pad_sequences(\n",
    "    x_test_token,\n",
    "    #KODE KALIAN DISINI\n",
    ")\n",
    "\n",
    "y_pred = model.predict(x_test_padding)\n",
    "y_pred = np.where(y_pred > 0.5, 1,0)"
   ]
  },
  {
   "cell_type": "markdown",
   "metadata": {
    "id": "AKF9u7-jm0QV"
   },
   "source": [
    "<div class=\"alert alert-block alert-success\">\n",
    "    <h3><b>F.</b> Final Evaluation</h3>\n",
    "</div>"
   ]
  },
  {
   "cell_type": "code",
   "execution_count": null,
   "metadata": {
    "id": "NSg7jydvm358"
   },
   "outputs": [],
   "source": [
    "from colorama import Fore\n",
    "from sklearn.metrics import accuracy_score\n",
    "\n",
    "# JANGAN MENGUBAH KODE INI\n",
    "y_test = np.load('y_test.npy', allow_pickle=True)\n",
    "\n",
    "THRESHOLD = 0.85\n",
    "acc = accuracy_score(y_test, y_pred)\n",
    "\n",
    "if acc > THRESHOLD:\n",
    "    print(Fore.GREEN + f'LULUS dengan skor {acc:.3%}')\n",
    "else:\n",
    "    print(Fore.RED + f'E OT, TIDAK LULUS, skor : {acc:.3%}')"
   ]
  }
 ],
 "metadata": {
  "colab": {
   "authorship_tag": "ABX9TyMYURfdFsOAJw3mY3e9oyeD",
   "provenance": []
  },
  "kernelspec": {
   "display_name": "Python 3 (ipykernel)",
   "language": "python",
   "name": "python3"
  },
  "language_info": {
   "codemirror_mode": {
    "name": "ipython",
    "version": 3
   },
   "file_extension": ".py",
   "mimetype": "text/x-python",
   "name": "python",
   "nbconvert_exporter": "python",
   "pygments_lexer": "ipython3",
   "version": "3.10.7"
  }
 },
 "nbformat": 4,
 "nbformat_minor": 4
}
